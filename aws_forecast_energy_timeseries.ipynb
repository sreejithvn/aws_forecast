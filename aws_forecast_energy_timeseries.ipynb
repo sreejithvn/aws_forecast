{
 "cells": [
  {
   "cell_type": "code",
   "execution_count": 1,
   "id": "b77856c7-a44f-4f7b-8183-8af3ac2f0b57",
   "metadata": {},
   "outputs": [],
   "source": [
    "import boto3\n",
    "import pandas as pd\n",
    "import os\n",
    "from datetime import datetime as dt"
   ]
  },
  {
   "cell_type": "code",
   "execution_count": 2,
   "id": "d88dc63e-da9d-4ac4-a4a4-c7ccc0afd308",
   "metadata": {},
   "outputs": [],
   "source": [
    "# !pip install s3fs matplotlib ipywidgets"
   ]
  },
  {
   "cell_type": "code",
   "execution_count": 4,
   "id": "2d3932e6-6ec5-4cf8-84e8-15ed3ec8617b",
   "metadata": {},
   "outputs": [
    {
     "data": {
      "text/plain": [
       "'default'"
      ]
     },
     "execution_count": 4,
     "metadata": {},
     "output_type": "execute_result"
    }
   ],
   "source": [
    "os.environ.setdefault('AWS_PROFILE', 'default')"
   ]
  },
  {
   "cell_type": "code",
   "execution_count": 5,
   "id": "1d0cd4bf-686d-481c-8827-3eff68da0cb3",
   "metadata": {},
   "outputs": [
    {
     "data": {
      "text/plain": [
       "'us-east-1'"
      ]
     },
     "execution_count": 5,
     "metadata": {},
     "output_type": "execute_result"
    }
   ],
   "source": [
    "os.environ.setdefault('AWS_DEFAULT_REGION', 'us-east-1')"
   ]
  },
  {
   "cell_type": "code",
   "execution_count": 6,
   "id": "c0793dab-743f-4567-b1f3-555678b6be0f",
   "metadata": {},
   "outputs": [],
   "source": [
    "# ! pip install kaggle\n",
    "\n",
    "# ! mkdir ~/.kaggle\n",
    "# ! cp ~/Dev/kaggle.json ~/.kaggle/\n",
    "# ! chmod 600 ~/.kaggle/kaggle.json\n",
    "# ! kaggle datasets list"
   ]
  },
  {
   "cell_type": "code",
   "execution_count": 7,
   "id": "dfdbb7c7-afc5-497c-8801-1d2680c16ff2",
   "metadata": {},
   "outputs": [
    {
     "name": "stdout",
     "output_type": "stream",
     "text": [
      "total 8\n",
      "-rw-------@ 1 sreejith  staff  69 Dec 10 13:56 kaggle.json\n"
     ]
    }
   ],
   "source": [
    "! ls -ltr ~/.kaggle/"
   ]
  },
  {
   "cell_type": "code",
   "execution_count": 15,
   "id": "8342eba5-e17a-48cb-af07-b3deafd0b274",
   "metadata": {},
   "outputs": [
    {
     "name": "stdout",
     "output_type": "stream",
     "text": [
      "Downloading state-wise-power-consumption-in-india.zip to /Users/sreejith/Dev/projects/timeseries/aws_forecast\n",
      "  0%|                                                | 0.00/123k [00:00<?, ?B/s]\n",
      "100%|████████████████████████████████████████| 123k/123k [00:00<00:00, 1.91MB/s]\n",
      "Archive:  state-wise-power-consumption-in-india.zip\n",
      "  inflating: dataset_tk.csv          \n",
      "  inflating: long_data_.csv          \n"
     ]
    }
   ],
   "source": [
    "!kaggle datasets download twinkle0705/state-wise-power-consumption-in-india\n",
    "!unzip state-wise-power-consumption-in-india"
   ]
  },
  {
   "cell_type": "code",
   "execution_count": 8,
   "id": "b9a70ddb-a298-47b1-badc-23313800cd27",
   "metadata": {},
   "outputs": [],
   "source": [
    "# from urllib.request import urlretrieve\n",
    "# urlretrieve(github_raw_url, 'energy_dataset.csv')"
   ]
  },
  {
   "cell_type": "code",
   "execution_count": 9,
   "id": "1a04aca1-54d9-4159-a31e-bd22a7ddad34",
   "metadata": {},
   "outputs": [
    {
     "name": "stdout",
     "output_type": "stream",
     "text": [
      "aws_forecast_energy_timeseries.ipynb\n",
      "aws_forecast_example.ipynb\n",
      "backup.txt\n",
      "dataset_tk.csv\n",
      "energy_dataset.csv\n",
      "energy_dataset_set_date_index.csv\n",
      "energy_dataset_target_series.csv\n",
      "long_data_.csv\n",
      "maharashtra_energy_dataset_filled.csv\n",
      "maharashtra_energy_dataset_target_series.csv\n",
      "state-wise-power-consumption-in-india.zip\n",
      "\u001b[1m\u001b[36mvenv\u001b[m\u001b[m\n"
     ]
    }
   ],
   "source": [
    "! ls"
   ]
  },
  {
   "cell_type": "markdown",
   "id": "9935d1c2-fa74-439c-8712-4a4d5b3c98c6",
   "metadata": {},
   "source": [
    "# Prepare Training Data"
   ]
  },
  {
   "cell_type": "code",
   "execution_count": 10,
   "id": "9a7687c5-88ba-4cea-8d31-1a529740c8c4",
   "metadata": {},
   "outputs": [],
   "source": [
    "data_df = pd.read_csv('energy_dataset.csv')"
   ]
  },
  {
   "cell_type": "code",
   "execution_count": 11,
   "id": "a9ed215a-6943-47b6-a872-508b82b73946",
   "metadata": {},
   "outputs": [
    {
     "data": {
      "text/html": [
       "<div>\n",
       "<style scoped>\n",
       "    .dataframe tbody tr th:only-of-type {\n",
       "        vertical-align: middle;\n",
       "    }\n",
       "\n",
       "    .dataframe tbody tr th {\n",
       "        vertical-align: top;\n",
       "    }\n",
       "\n",
       "    .dataframe thead th {\n",
       "        text-align: right;\n",
       "    }\n",
       "</style>\n",
       "<table border=\"1\" class=\"dataframe\">\n",
       "  <thead>\n",
       "    <tr style=\"text-align: right;\">\n",
       "      <th></th>\n",
       "      <th>utc_timestamp</th>\n",
       "      <th>cet_cest_timestamp</th>\n",
       "      <th>CY_load_actual_entsoe_transparency</th>\n",
       "      <th>CY_load_forecast_entsoe_transparency</th>\n",
       "      <th>CY_wind_onshore_generation_actual</th>\n",
       "      <th>GB_GBN_load_actual_entsoe_transparency</th>\n",
       "      <th>GB_GBN_load_forecast_entsoe_transparency</th>\n",
       "      <th>GB_GBN_solar_capacity</th>\n",
       "      <th>GB_GBN_solar_generation_actual</th>\n",
       "      <th>GB_GBN_solar_profile</th>\n",
       "      <th>...</th>\n",
       "      <th>GB_UKM_wind_offshore_generation_actual</th>\n",
       "      <th>GB_UKM_wind_onshore_capacity</th>\n",
       "      <th>GB_UKM_wind_onshore_generation_actual</th>\n",
       "      <th>IE_load_actual_entsoe_transparency</th>\n",
       "      <th>IE_load_forecast_entsoe_transparency</th>\n",
       "      <th>IE_wind_onshore_generation_actual</th>\n",
       "      <th>IE_sem_load_actual_entsoe_transparency</th>\n",
       "      <th>IE_sem_load_forecast_entsoe_transparency</th>\n",
       "      <th>IE_sem_price_day_ahead</th>\n",
       "      <th>IE_sem_wind_onshore_generation_actual</th>\n",
       "    </tr>\n",
       "  </thead>\n",
       "  <tbody>\n",
       "    <tr>\n",
       "      <th>0</th>\n",
       "      <td>2014-12-31T23:00:00Z</td>\n",
       "      <td>2015-01-01T00:00:00+0100</td>\n",
       "      <td>NaN</td>\n",
       "      <td>NaN</td>\n",
       "      <td>NaN</td>\n",
       "      <td>NaN</td>\n",
       "      <td>NaN</td>\n",
       "      <td>NaN</td>\n",
       "      <td>NaN</td>\n",
       "      <td>NaN</td>\n",
       "      <td>...</td>\n",
       "      <td>NaN</td>\n",
       "      <td>NaN</td>\n",
       "      <td>NaN</td>\n",
       "      <td>NaN</td>\n",
       "      <td>NaN</td>\n",
       "      <td>NaN</td>\n",
       "      <td>NaN</td>\n",
       "      <td>NaN</td>\n",
       "      <td>NaN</td>\n",
       "      <td>NaN</td>\n",
       "    </tr>\n",
       "    <tr>\n",
       "      <th>1</th>\n",
       "      <td>2014-12-31T23:30:00Z</td>\n",
       "      <td>2015-01-01T00:30:00+0100</td>\n",
       "      <td>NaN</td>\n",
       "      <td>NaN</td>\n",
       "      <td>NaN</td>\n",
       "      <td>NaN</td>\n",
       "      <td>NaN</td>\n",
       "      <td>2664.0</td>\n",
       "      <td>NaN</td>\n",
       "      <td>NaN</td>\n",
       "      <td>...</td>\n",
       "      <td>NaN</td>\n",
       "      <td>8173.0</td>\n",
       "      <td>NaN</td>\n",
       "      <td>NaN</td>\n",
       "      <td>NaN</td>\n",
       "      <td>NaN</td>\n",
       "      <td>NaN</td>\n",
       "      <td>NaN</td>\n",
       "      <td>NaN</td>\n",
       "      <td>NaN</td>\n",
       "    </tr>\n",
       "    <tr>\n",
       "      <th>2</th>\n",
       "      <td>2015-01-01T00:00:00Z</td>\n",
       "      <td>2015-01-01T01:00:00+0100</td>\n",
       "      <td>NaN</td>\n",
       "      <td>NaN</td>\n",
       "      <td>NaN</td>\n",
       "      <td>NaN</td>\n",
       "      <td>NaN</td>\n",
       "      <td>2669.0</td>\n",
       "      <td>NaN</td>\n",
       "      <td>NaN</td>\n",
       "      <td>...</td>\n",
       "      <td>NaN</td>\n",
       "      <td>8174.0</td>\n",
       "      <td>NaN</td>\n",
       "      <td>NaN</td>\n",
       "      <td>NaN</td>\n",
       "      <td>NaN</td>\n",
       "      <td>NaN</td>\n",
       "      <td>NaN</td>\n",
       "      <td>NaN</td>\n",
       "      <td>NaN</td>\n",
       "    </tr>\n",
       "    <tr>\n",
       "      <th>3</th>\n",
       "      <td>2015-01-01T00:30:00Z</td>\n",
       "      <td>2015-01-01T01:30:00+0100</td>\n",
       "      <td>NaN</td>\n",
       "      <td>NaN</td>\n",
       "      <td>NaN</td>\n",
       "      <td>26758.0</td>\n",
       "      <td>32057.0</td>\n",
       "      <td>2669.0</td>\n",
       "      <td>NaN</td>\n",
       "      <td>NaN</td>\n",
       "      <td>...</td>\n",
       "      <td>NaN</td>\n",
       "      <td>8174.0</td>\n",
       "      <td>385.33</td>\n",
       "      <td>2832.37</td>\n",
       "      <td>3550.0</td>\n",
       "      <td>1335.88</td>\n",
       "      <td>3681.37</td>\n",
       "      <td>NaN</td>\n",
       "      <td>NaN</td>\n",
       "      <td>1721.21</td>\n",
       "    </tr>\n",
       "    <tr>\n",
       "      <th>4</th>\n",
       "      <td>2015-01-01T01:00:00Z</td>\n",
       "      <td>2015-01-01T02:00:00+0100</td>\n",
       "      <td>NaN</td>\n",
       "      <td>NaN</td>\n",
       "      <td>NaN</td>\n",
       "      <td>27561.0</td>\n",
       "      <td>32135.0</td>\n",
       "      <td>2669.0</td>\n",
       "      <td>NaN</td>\n",
       "      <td>NaN</td>\n",
       "      <td>...</td>\n",
       "      <td>NaN</td>\n",
       "      <td>8174.0</td>\n",
       "      <td>1050.04</td>\n",
       "      <td>2726.20</td>\n",
       "      <td>3403.0</td>\n",
       "      <td>1289.69</td>\n",
       "      <td>3523.20</td>\n",
       "      <td>NaN</td>\n",
       "      <td>NaN</td>\n",
       "      <td>1675.24</td>\n",
       "    </tr>\n",
       "  </tbody>\n",
       "</table>\n",
       "<p>5 rows × 41 columns</p>\n",
       "</div>"
      ],
      "text/plain": [
       "          utc_timestamp        cet_cest_timestamp  \\\n",
       "0  2014-12-31T23:00:00Z  2015-01-01T00:00:00+0100   \n",
       "1  2014-12-31T23:30:00Z  2015-01-01T00:30:00+0100   \n",
       "2  2015-01-01T00:00:00Z  2015-01-01T01:00:00+0100   \n",
       "3  2015-01-01T00:30:00Z  2015-01-01T01:30:00+0100   \n",
       "4  2015-01-01T01:00:00Z  2015-01-01T02:00:00+0100   \n",
       "\n",
       "   CY_load_actual_entsoe_transparency  CY_load_forecast_entsoe_transparency  \\\n",
       "0                                 NaN                                   NaN   \n",
       "1                                 NaN                                   NaN   \n",
       "2                                 NaN                                   NaN   \n",
       "3                                 NaN                                   NaN   \n",
       "4                                 NaN                                   NaN   \n",
       "\n",
       "   CY_wind_onshore_generation_actual  GB_GBN_load_actual_entsoe_transparency  \\\n",
       "0                                NaN                                     NaN   \n",
       "1                                NaN                                     NaN   \n",
       "2                                NaN                                     NaN   \n",
       "3                                NaN                                 26758.0   \n",
       "4                                NaN                                 27561.0   \n",
       "\n",
       "   GB_GBN_load_forecast_entsoe_transparency  GB_GBN_solar_capacity  \\\n",
       "0                                       NaN                    NaN   \n",
       "1                                       NaN                 2664.0   \n",
       "2                                       NaN                 2669.0   \n",
       "3                                   32057.0                 2669.0   \n",
       "4                                   32135.0                 2669.0   \n",
       "\n",
       "   GB_GBN_solar_generation_actual  GB_GBN_solar_profile  ...  \\\n",
       "0                             NaN                   NaN  ...   \n",
       "1                             NaN                   NaN  ...   \n",
       "2                             NaN                   NaN  ...   \n",
       "3                             NaN                   NaN  ...   \n",
       "4                             NaN                   NaN  ...   \n",
       "\n",
       "   GB_UKM_wind_offshore_generation_actual  GB_UKM_wind_onshore_capacity  \\\n",
       "0                                     NaN                           NaN   \n",
       "1                                     NaN                        8173.0   \n",
       "2                                     NaN                        8174.0   \n",
       "3                                     NaN                        8174.0   \n",
       "4                                     NaN                        8174.0   \n",
       "\n",
       "   GB_UKM_wind_onshore_generation_actual  IE_load_actual_entsoe_transparency  \\\n",
       "0                                    NaN                                 NaN   \n",
       "1                                    NaN                                 NaN   \n",
       "2                                    NaN                                 NaN   \n",
       "3                                 385.33                             2832.37   \n",
       "4                                1050.04                             2726.20   \n",
       "\n",
       "   IE_load_forecast_entsoe_transparency  IE_wind_onshore_generation_actual  \\\n",
       "0                                   NaN                                NaN   \n",
       "1                                   NaN                                NaN   \n",
       "2                                   NaN                                NaN   \n",
       "3                                3550.0                            1335.88   \n",
       "4                                3403.0                            1289.69   \n",
       "\n",
       "   IE_sem_load_actual_entsoe_transparency  \\\n",
       "0                                     NaN   \n",
       "1                                     NaN   \n",
       "2                                     NaN   \n",
       "3                                 3681.37   \n",
       "4                                 3523.20   \n",
       "\n",
       "   IE_sem_load_forecast_entsoe_transparency  IE_sem_price_day_ahead  \\\n",
       "0                                       NaN                     NaN   \n",
       "1                                       NaN                     NaN   \n",
       "2                                       NaN                     NaN   \n",
       "3                                       NaN                     NaN   \n",
       "4                                       NaN                     NaN   \n",
       "\n",
       "   IE_sem_wind_onshore_generation_actual  \n",
       "0                                    NaN  \n",
       "1                                    NaN  \n",
       "2                                    NaN  \n",
       "3                                1721.21  \n",
       "4                                1675.24  \n",
       "\n",
       "[5 rows x 41 columns]"
      ]
     },
     "execution_count": 11,
     "metadata": {},
     "output_type": "execute_result"
    }
   ],
   "source": [
    "data_df.head()"
   ]
  },
  {
   "cell_type": "code",
   "execution_count": 12,
   "id": "4fcd1636-16af-4738-96a0-60374f8beb65",
   "metadata": {},
   "outputs": [],
   "source": [
    "df = data_df[['utc_timestamp','GB_GBN_solar_generation_actual']].dropna().reset_index(drop=True)\n",
    "df['utc_timestamp'] = pd.to_datetime(df['utc_timestamp']).dt.date\n",
    "df = df.groupby(['utc_timestamp']).sum().reset_index()\n",
    "df.columns =['date','y']"
   ]
  },
  {
   "cell_type": "code",
   "execution_count": 13,
   "id": "8ed4dd51-80df-4b8b-ad7c-c59ddbf1a270",
   "metadata": {},
   "outputs": [
    {
     "data": {
      "text/html": [
       "<div>\n",
       "<style scoped>\n",
       "    .dataframe tbody tr th:only-of-type {\n",
       "        vertical-align: middle;\n",
       "    }\n",
       "\n",
       "    .dataframe tbody tr th {\n",
       "        vertical-align: top;\n",
       "    }\n",
       "\n",
       "    .dataframe thead th {\n",
       "        text-align: right;\n",
       "    }\n",
       "</style>\n",
       "<table border=\"1\" class=\"dataframe\">\n",
       "  <thead>\n",
       "    <tr style=\"text-align: right;\">\n",
       "      <th></th>\n",
       "      <th>date</th>\n",
       "      <th>y</th>\n",
       "    </tr>\n",
       "  </thead>\n",
       "  <tbody>\n",
       "    <tr>\n",
       "      <th>0</th>\n",
       "      <td>2015-01-01</td>\n",
       "      <td>756.0</td>\n",
       "    </tr>\n",
       "    <tr>\n",
       "      <th>1</th>\n",
       "      <td>2015-01-02</td>\n",
       "      <td>7663.0</td>\n",
       "    </tr>\n",
       "    <tr>\n",
       "      <th>2</th>\n",
       "      <td>2015-01-03</td>\n",
       "      <td>2049.0</td>\n",
       "    </tr>\n",
       "    <tr>\n",
       "      <th>3</th>\n",
       "      <td>2015-01-04</td>\n",
       "      <td>5423.0</td>\n",
       "    </tr>\n",
       "    <tr>\n",
       "      <th>4</th>\n",
       "      <td>2015-01-05</td>\n",
       "      <td>4070.0</td>\n",
       "    </tr>\n",
       "  </tbody>\n",
       "</table>\n",
       "</div>"
      ],
      "text/plain": [
       "         date       y\n",
       "0  2015-01-01   756.0\n",
       "1  2015-01-02  7663.0\n",
       "2  2015-01-03  2049.0\n",
       "3  2015-01-04  5423.0\n",
       "4  2015-01-05  4070.0"
      ]
     },
     "execution_count": 13,
     "metadata": {},
     "output_type": "execute_result"
    }
   ],
   "source": [
    "df.head()"
   ]
  },
  {
   "cell_type": "code",
   "execution_count": 14,
   "id": "25ab820b-e00d-4efc-9ca3-08d752a6a8dc",
   "metadata": {},
   "outputs": [],
   "source": [
    "# (data_1 == data).value_counts()"
   ]
  },
  {
   "cell_type": "code",
   "execution_count": 15,
   "id": "4cbd308e-2f66-4b70-9f20-1c5a82a3e841",
   "metadata": {},
   "outputs": [],
   "source": [
    "df.set_index('date', inplace=True)"
   ]
  },
  {
   "cell_type": "code",
   "execution_count": 16,
   "id": "4553824a-f74a-4936-b462-07158749ee97",
   "metadata": {},
   "outputs": [
    {
     "data": {
      "text/plain": [
       "True"
      ]
     },
     "execution_count": 16,
     "metadata": {},
     "output_type": "execute_result"
    }
   ],
   "source": [
    "# Check for missing dates\n",
    "date_range = pd.date_range(df.index[0], df.index[-1])\n",
    "len(date_range) == len(df.index)"
   ]
  },
  {
   "cell_type": "code",
   "execution_count": 17,
   "id": "e5caf5cd-1979-4086-bc23-8c17bb818d09",
   "metadata": {},
   "outputs": [
    {
     "data": {
      "text/plain": [
       "y    \n",
       "False    2100\n",
       "dtype: int64"
      ]
     },
     "execution_count": 17,
     "metadata": {},
     "output_type": "execute_result"
    }
   ],
   "source": [
    "# Check for missing data\n",
    "df.isna().value_counts()"
   ]
  },
  {
   "cell_type": "code",
   "execution_count": 18,
   "id": "0a3c5dd7-76c0-4991-9887-5a75349a93db",
   "metadata": {},
   "outputs": [],
   "source": [
    "df.to_csv('energy_dataset_set_date_index.csv')"
   ]
  },
  {
   "cell_type": "code",
   "execution_count": 19,
   "id": "11584cef-57c4-40ff-9093-8cc98cbd3c38",
   "metadata": {},
   "outputs": [
    {
     "name": "stdout",
     "output_type": "stream",
     "text": [
      "aws_forecast_energy_timeseries.ipynb\n",
      "aws_forecast_example.ipynb\n",
      "backup.txt\n",
      "dataset_tk.csv\n",
      "energy_dataset.csv\n",
      "energy_dataset_set_date_index.csv\n",
      "energy_dataset_target_series.csv\n",
      "long_data_.csv\n",
      "maharashtra_energy_dataset_filled.csv\n",
      "maharashtra_energy_dataset_target_series.csv\n",
      "state-wise-power-consumption-in-india.zip\n",
      "\u001b[1m\u001b[36mvenv\u001b[m\u001b[m\n"
     ]
    }
   ],
   "source": [
    "!ls"
   ]
  },
  {
   "cell_type": "code",
   "execution_count": 20,
   "id": "2b4c90ec-e012-4e21-9ad1-035e0520e938",
   "metadata": {},
   "outputs": [
    {
     "name": "stdout",
     "output_type": "stream",
     "text": [
      "date,y\n",
      "2015-01-01,756.0\n",
      "2015-01-02,7663.0\n",
      "2015-01-03,2049.0\n",
      "2015-01-04,5423.0\n"
     ]
    }
   ],
   "source": [
    "!head -n 5 energy_dataset_set_date_index.csv"
   ]
  },
  {
   "cell_type": "code",
   "execution_count": 21,
   "id": "9c4ad371-b630-4a28-b6df-cef08e295376",
   "metadata": {},
   "outputs": [],
   "source": [
    "# AWS Forecast requires an column 'item_id'\n",
    "df['item_id'] = 'GB'"
   ]
  },
  {
   "cell_type": "code",
   "execution_count": 22,
   "id": "369c3c85-33e5-4b1a-ae3f-41e4664726c2",
   "metadata": {},
   "outputs": [
    {
     "data": {
      "text/html": [
       "<div>\n",
       "<style scoped>\n",
       "    .dataframe tbody tr th:only-of-type {\n",
       "        vertical-align: middle;\n",
       "    }\n",
       "\n",
       "    .dataframe tbody tr th {\n",
       "        vertical-align: top;\n",
       "    }\n",
       "\n",
       "    .dataframe thead th {\n",
       "        text-align: right;\n",
       "    }\n",
       "</style>\n",
       "<table border=\"1\" class=\"dataframe\">\n",
       "  <thead>\n",
       "    <tr style=\"text-align: right;\">\n",
       "      <th></th>\n",
       "      <th>y</th>\n",
       "      <th>item_id</th>\n",
       "    </tr>\n",
       "    <tr>\n",
       "      <th>date</th>\n",
       "      <th></th>\n",
       "      <th></th>\n",
       "    </tr>\n",
       "  </thead>\n",
       "  <tbody>\n",
       "    <tr>\n",
       "      <th>2015-01-01</th>\n",
       "      <td>756.0</td>\n",
       "      <td>GB</td>\n",
       "    </tr>\n",
       "    <tr>\n",
       "      <th>2015-01-02</th>\n",
       "      <td>7663.0</td>\n",
       "      <td>GB</td>\n",
       "    </tr>\n",
       "    <tr>\n",
       "      <th>2015-01-03</th>\n",
       "      <td>2049.0</td>\n",
       "      <td>GB</td>\n",
       "    </tr>\n",
       "    <tr>\n",
       "      <th>2015-01-04</th>\n",
       "      <td>5423.0</td>\n",
       "      <td>GB</td>\n",
       "    </tr>\n",
       "    <tr>\n",
       "      <th>2015-01-05</th>\n",
       "      <td>4070.0</td>\n",
       "      <td>GB</td>\n",
       "    </tr>\n",
       "  </tbody>\n",
       "</table>\n",
       "</div>"
      ],
      "text/plain": [
       "                 y item_id\n",
       "date                      \n",
       "2015-01-01   756.0      GB\n",
       "2015-01-02  7663.0      GB\n",
       "2015-01-03  2049.0      GB\n",
       "2015-01-04  5423.0      GB\n",
       "2015-01-05  4070.0      GB"
      ]
     },
     "execution_count": 22,
     "metadata": {},
     "output_type": "execute_result"
    }
   ],
   "source": [
    "df.head()"
   ]
  },
  {
   "cell_type": "code",
   "execution_count": 23,
   "id": "c09af7e3-ce0c-41fe-817f-b11482863070",
   "metadata": {},
   "outputs": [],
   "source": [
    "# Leave last 30 points for evaluating Forecast predictions\n",
    "FORECAST_LENGTH = 30\n",
    "train = df.iloc[:-FORECAST_LENGTH]"
   ]
  },
  {
   "cell_type": "code",
   "execution_count": 83,
   "id": "c7fdb316-25e4-4018-8f4d-9e6c6da27230",
   "metadata": {},
   "outputs": [
    {
     "name": "stdout",
     "output_type": "stream",
     "text": [
      "Length of dataset: 2100 \n",
      "Length of training data: 2070\n"
     ]
    }
   ],
   "source": [
    "print(f\"Length of dataset: {len(df)} \\nLength of training data: {len(train)}\")"
   ]
  },
  {
   "cell_type": "code",
   "execution_count": 25,
   "id": "7aac4805-e4dd-4f9a-b7e6-15b3018099db",
   "metadata": {},
   "outputs": [],
   "source": [
    "# AWS can have a \"target time series\" and a \"related time series\"\n",
    "train_target_series = train  # Here we doesn't have any additional data columns for related series"
   ]
  },
  {
   "cell_type": "code",
   "execution_count": 26,
   "id": "d0a16f42-b337-4fe1-8b1a-db19140e6fd4",
   "metadata": {},
   "outputs": [],
   "source": [
    "# Save data to be uploaded to S3\n",
    "train_target_series.to_csv(\"energy_dataset_target_series.csv\", header=None)"
   ]
  },
  {
   "cell_type": "code",
   "execution_count": 27,
   "id": "5c0a11b2-9d18-432e-93b5-6ee6456db1d6",
   "metadata": {},
   "outputs": [
    {
     "name": "stdout",
     "output_type": "stream",
     "text": [
      "2015-01-01,756.0,GB\n",
      "2015-01-02,7663.0,GB\n",
      "2015-01-03,2049.0,GB\n",
      "2015-01-04,5423.0,GB\n",
      "2015-01-05,4070.0,GB\n"
     ]
    }
   ],
   "source": [
    "!head -n 5 energy_dataset_target_series.csv"
   ]
  },
  {
   "cell_type": "markdown",
   "id": "9b24a05f-fee3-4abd-8eae-1c365a6ac06e",
   "metadata": {},
   "source": [
    "# Importing the Data"
   ]
  },
  {
   "cell_type": "markdown",
   "id": "3681637f-b01b-4e59-b655-3afb37bf490d",
   "metadata": {},
   "source": [
    "## Create Dataset Group"
   ]
  },
  {
   "cell_type": "code",
   "execution_count": 28,
   "id": "8268a1da-f1d8-4467-8a7b-a8438d08e449",
   "metadata": {},
   "outputs": [],
   "source": [
    "bucket_name = 'energy-prediction-aws-forecast'"
   ]
  },
  {
   "cell_type": "code",
   "execution_count": 29,
   "id": "9674e851-9c84-4853-89ec-efb31f42b84d",
   "metadata": {},
   "outputs": [],
   "source": [
    "role_arn = 'arn:aws:iam::312202024311:role/ForecastRoleS3Access'"
   ]
  },
  {
   "cell_type": "code",
   "execution_count": 53,
   "id": "a9236a65-c520-40cc-aeb5-c25a91693269",
   "metadata": {},
   "outputs": [
    {
     "name": "stdout",
     "output_type": "stream",
     "text": [
      "Dataset Group Name = daily_energy_forecast_dataset_group_1\n"
     ]
    }
   ],
   "source": [
    "# Forecast time unit granularity\n",
    "DATASET_FREQUENCY = 'D'\n",
    "TIMESTAMP_FORMAT = 'yyyy-MM-dd'\n",
    "\n",
    "PROJECT = 'daily_energy_forecast'\n",
    "DATA_VERSION = 1\n",
    "\n",
    "dataset_group = f'{PROJECT}_dataset_group_{DATA_VERSION}'\n",
    "print(f\"Dataset Group Name = {dataset_group}\")"
   ]
  },
  {
   "cell_type": "code",
   "execution_count": 38,
   "id": "6463ad87-07e5-4f29-9dcc-abb82bd17ac0",
   "metadata": {},
   "outputs": [],
   "source": [
    "forecast_client = boto3.client('forecast')\n",
    "forecastquery_client = boto3.client('forecastquery')"
   ]
  },
  {
   "cell_type": "code",
   "execution_count": 39,
   "id": "74b848a1-92f4-4c7c-9e58-74874a553504",
   "metadata": {},
   "outputs": [
    {
     "data": {
      "text/plain": [
       "<botocore.client.ForecastQueryService at 0x140395390>"
      ]
     },
     "execution_count": 39,
     "metadata": {},
     "output_type": "execute_result"
    }
   ],
   "source": [
    "forecastquery_client"
   ]
  },
  {
   "cell_type": "code",
   "execution_count": 43,
   "id": "13c57436-7155-4934-a74d-c58d12ee4ed5",
   "metadata": {},
   "outputs": [],
   "source": [
    "assert forecast_client.list_predictors()"
   ]
  },
  {
   "cell_type": "code",
   "execution_count": 44,
   "id": "7bc64bb6-2992-4ac1-a8cf-d2ca3afab092",
   "metadata": {},
   "outputs": [],
   "source": [
    "# create a dataset group\n",
    "dataset_arns = []\n",
    "create_dataset_group_response = forecast_client.create_dataset_group(Domain='CUSTOM',\n",
    "                                                                     DatasetGroupName=dataset_group,\n",
    "                                                                     DatasetArns=dataset_arns)"
   ]
  },
  {
   "cell_type": "code",
   "execution_count": 45,
   "id": "d0e303e6-9406-48a4-89bb-6cf32c875ccd",
   "metadata": {},
   "outputs": [
    {
     "name": "stdout",
     "output_type": "stream",
     "text": [
      "ACTIVE\n",
      "2022-12-12 01:58:41.886000+00:00\n",
      "2022-12-12 01:58:41.886000+00:00\n"
     ]
    }
   ],
   "source": [
    "# wait until its complete!\n",
    "dataset_group_arn = create_dataset_group_response['DatasetGroupArn']\n",
    "describe = forecast_client.describe_dataset_group(DatasetGroupArn=dataset_group_arn)\n",
    "\n",
    "print(describe['Status'])\n",
    "print(describe['CreationTime'])\n",
    "print(describe['LastModificationTime'])"
   ]
  },
  {
   "cell_type": "markdown",
   "id": "deae5073-eeba-428b-866d-9477a9b90f24",
   "metadata": {},
   "source": [
    "## Create Schema"
   ]
  },
  {
   "cell_type": "code",
   "execution_count": 46,
   "id": "7db4c4d1-3c2f-4b4c-9eea-38aa7bba2832",
   "metadata": {},
   "outputs": [],
   "source": [
    "# Specify the schema of your dataset here. Make sure the order of columns matches the raw data files.\n",
    "target_schema ={\n",
    "   \"Attributes\":[\n",
    "      {\n",
    "         \"AttributeName\":\"timestamp\",\n",
    "         \"AttributeType\":\"timestamp\"\n",
    "      },\n",
    "      {\n",
    "         \"AttributeName\":\"target_value\",\n",
    "         \"AttributeType\":\"float\"\n",
    "      },\n",
    "      {\n",
    "         \"AttributeName\":\"item_id\",\n",
    "         \"AttributeType\":\"string\"\n",
    "      }\n",
    "   ]\n",
    "}"
   ]
  },
  {
   "cell_type": "code",
   "execution_count": 51,
   "id": "d93625f8-bc78-4e20-ba58-f05bde51cf58",
   "metadata": {},
   "outputs": [
    {
     "name": "stdout",
     "output_type": "stream",
     "text": [
      "Dataset name = daily_energy_forecast_1\n"
     ]
    }
   ],
   "source": [
    "# Give our dataset a name\n",
    "target_dataset_name = f'{PROJECT}_{DATA_VERSION}'\n",
    "print(f'Dataset name = {target_dataset_name}' )"
   ]
  },
  {
   "cell_type": "markdown",
   "id": "2a3c3069-1649-4bd5-b5ea-516e5ae4f193",
   "metadata": {},
   "source": [
    "## Create a Dataset"
   ]
  },
  {
   "cell_type": "code",
   "execution_count": 48,
   "id": "2718a36a-8d0f-49c3-a8e8-7cb4cb60778d",
   "metadata": {},
   "outputs": [],
   "source": [
    "response = forecast_client.create_dataset(Domain=\"CUSTOM\",\n",
    "                                          DatasetType='TARGET_TIME_SERIES',\n",
    "                                          DatasetName=target_dataset_name,\n",
    "                                          DataFrequency=DATASET_FREQUENCY,\n",
    "                                          Schema=target_schema)"
   ]
  },
  {
   "cell_type": "code",
   "execution_count": 49,
   "id": "48ddf765-9f62-43b6-9d31-bda756159421",
   "metadata": {},
   "outputs": [
    {
     "name": "stdout",
     "output_type": "stream",
     "text": [
      "ACTIVE\n",
      "2022-12-12 02:00:08.203000+00:00\n",
      "2022-12-12 02:00:08.203000+00:00\n"
     ]
    }
   ],
   "source": [
    "# Check the response\n",
    "target_dataset_arn = response['DatasetArn']\n",
    "describe = forecast_client.describe_dataset(DatasetArn=target_dataset_arn)\n",
    "\n",
    "print(describe['Status'])\n",
    "print(describe['CreationTime'])\n",
    "print(describe['LastModificationTime'])"
   ]
  },
  {
   "cell_type": "markdown",
   "id": "146c2d32-a0e7-46b6-89de-a56c0946f0c7",
   "metadata": {},
   "source": [
    "## Update the dataset group with the datasets we created"
   ]
  },
  {
   "cell_type": "code",
   "execution_count": 50,
   "id": "630bd1a2-9b87-4380-9696-e9dd388b1398",
   "metadata": {},
   "outputs": [
    {
     "data": {
      "text/plain": [
       "{'ResponseMetadata': {'RequestId': '9d97654c-27f3-4d69-9ade-ea6279609fb5',\n",
       "  'HTTPStatusCode': 200,\n",
       "  'HTTPHeaders': {'date': 'Mon, 12 Dec 2022 02:00:25 GMT',\n",
       "   'content-type': 'application/x-amz-json-1.1',\n",
       "   'content-length': '2',\n",
       "   'connection': 'keep-alive',\n",
       "   'x-amzn-requestid': '9d97654c-27f3-4d69-9ade-ea6279609fb5'},\n",
       "  'RetryAttempts': 0}}"
      ]
     },
     "execution_count": 50,
     "metadata": {},
     "output_type": "execute_result"
    }
   ],
   "source": [
    "dataset_arns = []\n",
    "dataset_arns.append(target_dataset_arn)\n",
    "forecast_client.update_dataset_group(DatasetGroupArn=dataset_group_arn, DatasetArns=dataset_arns)"
   ]
  },
  {
   "cell_type": "markdown",
   "id": "806964d5-e883-4c2f-8edb-d84754d7bac5",
   "metadata": {},
   "source": [
    "## Upload Data to S3"
   ]
  },
  {
   "cell_type": "code",
   "execution_count": 52,
   "id": "4ebbbe7b-e786-4376-8b3d-5ff10993e31b",
   "metadata": {},
   "outputs": [],
   "source": [
    "# s3r = boto3.resource('s3')\n",
    "# s3r.Bucket(bucket_name).Object(\"energy_dataset_target_series.csv\").upload_file(\"energy_dataset_target_series.csv\")"
   ]
  },
  {
   "cell_type": "code",
   "execution_count": 36,
   "id": "53ad268f-8066-4543-a5a1-694a8b1ad17a",
   "metadata": {},
   "outputs": [],
   "source": [
    "s3_client = boto3.client('s3')\n",
    "s3_client.upload_file(Filename='energy_dataset_target_series.csv', \n",
    "                      Bucket=bucket_name, \n",
    "                      Key='energy_dataset_target_series.csv')"
   ]
  },
  {
   "cell_type": "code",
   "execution_count": 37,
   "id": "70704b10-cf19-4fa4-9b12-1bd537f6588d",
   "metadata": {},
   "outputs": [
    {
     "name": "stdout",
     "output_type": "stream",
     "text": [
      "energy_dataset_target_series.csv\n"
     ]
    }
   ],
   "source": [
    "s3_objects = s3_client.list_objects(Bucket=bucket_name)\n",
    "\n",
    "for content in s3_objects['Contents']:\n",
    "    print(content['Key'])"
   ]
  },
  {
   "cell_type": "markdown",
   "id": "9deb8aaa-9a38-46bc-b80a-de046483911a",
   "metadata": {},
   "source": [
    "## Create a Target Time Series Dataset Import Job\n",
    "\n",
    "`Now that Forecast knows how to understand the CSV we are providing, the next step is to import the data from S3 into Amazon Forecast`"
   ]
  },
  {
   "cell_type": "code",
   "execution_count": 54,
   "id": "0d87f43b-1c40-4a92-91d0-25e93f7b441f",
   "metadata": {},
   "outputs": [
    {
     "name": "stdout",
     "output_type": "stream",
     "text": [
      "S3 URI for your data file = s3://energy-prediction-aws-forecast/energy_dataset_target_series.csv\n"
     ]
    }
   ],
   "source": [
    "# Recall path to your data in S3\n",
    "key = 'energy_dataset_target_series.csv'\n",
    "s3_target_data_path = \"s3://\"+bucket_name+\"/\"+key\n",
    "print(f\"S3 URI for your data file = {s3_target_data_path}\")"
   ]
  },
  {
   "cell_type": "code",
   "execution_count": 55,
   "id": "5e66620b-d87b-462a-8811-6d14acc7382e",
   "metadata": {},
   "outputs": [
    {
     "data": {
      "text/plain": [
       "'arn:aws:iam::312202024311:role/ForecastRoleS3Access'"
      ]
     },
     "execution_count": 55,
     "metadata": {},
     "output_type": "execute_result"
    }
   ],
   "source": [
    "role_arn"
   ]
  },
  {
   "cell_type": "code",
   "execution_count": 58,
   "id": "39704438-e2e7-4412-94cb-bd4cbf6d620d",
   "metadata": {},
   "outputs": [],
   "source": [
    "# Launching the import job\n",
    "target_dataset_import_job_response = \\\n",
    "    forecast_client.create_dataset_import_job(DatasetImportJobName=dataset_group,\n",
    "                                              DatasetArn=target_dataset_arn,\n",
    "                                              DataSource= {\n",
    "                                                 \"S3Config\" : {\n",
    "                                                     \"Path\": s3_target_data_path,\n",
    "                                                     \"RoleArn\": role_arn\n",
    "                                                 } \n",
    "                                               },\n",
    "                                               TimestampFormat=TIMESTAMP_FORMAT)"
   ]
  },
  {
   "cell_type": "code",
   "execution_count": 80,
   "id": "ab457738-c500-4300-ad81-bafb4033fe10",
   "metadata": {},
   "outputs": [
    {
     "name": "stdout",
     "output_type": "stream",
     "text": [
      "ACTIVE\n",
      "2022-12-12 02:19:35.229000+00:00\n",
      "2022-12-12 02:25:11.491000+00:00\n"
     ]
    }
   ],
   "source": [
    "# Check the response\n",
    "target_dataset_import_job_arn = target_dataset_import_job_response['DatasetImportJobArn']\n",
    "describe = forecast_client.describe_dataset_import_job(DatasetImportJobArn=target_dataset_import_job_arn)\n",
    "\n",
    "# Check the status of dataset (Status changes from CREATE_IN_PROGRESS -> ACTIVE). \n",
    "# This process will take 5 to 10 minutes.\n",
    "print(describe['Status'])\n",
    "print(describe['CreationTime'])\n",
    "print(describe['LastModificationTime'])"
   ]
  },
  {
   "cell_type": "code",
   "execution_count": 77,
   "id": "6e7d889e-9ef2-4e22-820c-a53b25f33a07",
   "metadata": {},
   "outputs": [
    {
     "data": {
      "text/plain": [
       "{'item_id': {'Count': 2070,\n",
       "  'CountDistinct': 1,\n",
       "  'CountNull': 0,\n",
       "  'CountLong': 2070,\n",
       "  'CountDistinctLong': 1,\n",
       "  'CountNullLong': 0},\n",
       " 'target_value': {'Count': 2070,\n",
       "  'CountDistinct': 2049,\n",
       "  'CountNull': 0,\n",
       "  'CountNan': 0,\n",
       "  'Min': '756.0',\n",
       "  'Max': '161247.0',\n",
       "  'Avg': 56612.198541062804,\n",
       "  'Stddev': 37432.458714454624,\n",
       "  'CountLong': 2070,\n",
       "  'CountDistinctLong': 2049,\n",
       "  'CountNullLong': 0,\n",
       "  'CountNanLong': 0},\n",
       " 'timestamp': {'Count': 2070,\n",
       "  'CountDistinct': 2070,\n",
       "  'CountNull': 0,\n",
       "  'Min': '2015-01-01T00:00:00',\n",
       "  'Max': '2020-08-31T00:00:00',\n",
       "  'CountLong': 2070,\n",
       "  'CountDistinctLong': 2070,\n",
       "  'CountNullLong': 0}}"
      ]
     },
     "execution_count": 77,
     "metadata": {},
     "output_type": "execute_result"
    }
   ],
   "source": [
    "# forecast_client.describe_dataset_import_job(DatasetImportJobArn=target_dataset_import_job_arn)\n",
    "describe['FieldStatistics']"
   ]
  },
  {
   "cell_type": "code",
   "execution_count": 79,
   "id": "cd475874-e25e-40ad-806b-c262fd65848c",
   "metadata": {},
   "outputs": [
    {
     "data": {
      "text/plain": [
       "{'Predictors': [],\n",
       " 'ResponseMetadata': {'RequestId': '2e000ebf-2940-410c-bb12-bc63075692ac',\n",
       "  'HTTPStatusCode': 200,\n",
       "  'HTTPHeaders': {'date': 'Mon, 12 Dec 2022 02:39:06 GMT',\n",
       "   'content-type': 'application/x-amz-json-1.1',\n",
       "   'content-length': '17',\n",
       "   'connection': 'keep-alive',\n",
       "   'x-amzn-requestid': '2e000ebf-2940-410c-bb12-bc63075692ac'},\n",
       "  'RetryAttempts': 0}}"
      ]
     },
     "execution_count": 79,
     "metadata": {},
     "output_type": "execute_result"
    }
   ],
   "source": [
    "# check you can communicate with Forecast API session\n",
    "forecast_client.list_predictors()"
   ]
  },
  {
   "cell_type": "markdown",
   "id": "9424aadc-c641-4a1e-bf91-91402d1f55aa",
   "metadata": {},
   "source": [
    "# Create a Predictor"
   ]
  },
  {
   "cell_type": "code",
   "execution_count": null,
   "id": "75db47cd-f899-432a-b08d-cd59039a52c2",
   "metadata": {},
   "outputs": [],
   "source": []
  },
  {
   "cell_type": "code",
   "execution_count": null,
   "id": "1ddae3da-1ab1-4f28-aa9f-fd54ed7134ea",
   "metadata": {},
   "outputs": [],
   "source": []
  },
  {
   "cell_type": "code",
   "execution_count": null,
   "id": "b08688f2-ce58-4791-9f3c-2a28123224ba",
   "metadata": {},
   "outputs": [],
   "source": []
  },
  {
   "cell_type": "code",
   "execution_count": null,
   "id": "7d03d6d1-3e50-4d2f-9129-3343c10f066e",
   "metadata": {},
   "outputs": [],
   "source": []
  },
  {
   "cell_type": "code",
   "execution_count": null,
   "id": "a93eeb61-3f59-4e53-917f-5903866197f5",
   "metadata": {},
   "outputs": [],
   "source": []
  },
  {
   "cell_type": "code",
   "execution_count": null,
   "id": "9fd48d91-a9e4-4828-b192-7fbd44c33491",
   "metadata": {},
   "outputs": [],
   "source": []
  },
  {
   "cell_type": "code",
   "execution_count": null,
   "id": "bcebb920-4487-4a8b-91d7-e78a5313fe37",
   "metadata": {},
   "outputs": [],
   "source": []
  },
  {
   "cell_type": "code",
   "execution_count": null,
   "id": "59766f11-c01e-4dbf-b89e-b8259e5dfcf5",
   "metadata": {},
   "outputs": [],
   "source": []
  }
 ],
 "metadata": {
  "kernelspec": {
   "display_name": "Python 3 (ipykernel)",
   "language": "python",
   "name": "python3"
  },
  "language_info": {
   "codemirror_mode": {
    "name": "ipython",
    "version": 3
   },
   "file_extension": ".py",
   "mimetype": "text/x-python",
   "name": "python",
   "nbconvert_exporter": "python",
   "pygments_lexer": "ipython3",
   "version": "3.10.8"
  }
 },
 "nbformat": 4,
 "nbformat_minor": 5
}
