{
 "cells": [
  {
   "cell_type": "code",
   "execution_count": 23,
   "id": "b77856c7-a44f-4f7b-8183-8af3ac2f0b57",
   "metadata": {},
   "outputs": [],
   "source": [
    "import boto3\n",
    "import pandas as pd\n",
    "import os\n",
    "from datetime import datetime as dt"
   ]
  },
  {
   "cell_type": "code",
   "execution_count": 20,
   "id": "d88dc63e-da9d-4ac4-a4a4-c7ccc0afd308",
   "metadata": {},
   "outputs": [],
   "source": [
    "!pip install s3fs matplotlib ipywidgets"
   ]
  },
  {
   "cell_type": "code",
   "execution_count": 4,
   "id": "2d3932e6-6ec5-4cf8-84e8-15ed3ec8617b",
   "metadata": {},
   "outputs": [
    {
     "data": {
      "text/plain": [
       "'default'"
      ]
     },
     "execution_count": 4,
     "metadata": {},
     "output_type": "execute_result"
    }
   ],
   "source": [
    " os.environ.setdefault('AWS_PROFILE', 'default')"
   ]
  },
  {
   "cell_type": "code",
   "execution_count": 5,
   "id": "1d0cd4bf-686d-481c-8827-3eff68da0cb3",
   "metadata": {},
   "outputs": [
    {
     "data": {
      "text/plain": [
       "'us-east-1'"
      ]
     },
     "execution_count": 5,
     "metadata": {},
     "output_type": "execute_result"
    }
   ],
   "source": [
    "os.environ.setdefault('AWS_DEFAULT_REGION', 'us-east-1')"
   ]
  },
  {
   "cell_type": "code",
   "execution_count": 129,
   "id": "91766aa1-3a7b-4a8c-831d-b514e79fef7f",
   "metadata": {},
   "outputs": [],
   "source": [
    "%%sh \n",
    "\n",
    "# aws s3 ls"
   ]
  },
  {
   "cell_type": "code",
   "execution_count": 18,
   "id": "c0793dab-743f-4567-b1f3-555678b6be0f",
   "metadata": {},
   "outputs": [
    {
     "name": "stdout",
     "output_type": "stream",
     "text": [
      "Requirement already satisfied: kaggle in ./venv/lib/python3.10/site-packages (1.5.12)\n",
      "Requirement already satisfied: six>=1.10 in ./venv/lib/python3.10/site-packages (from kaggle) (1.16.0)\n",
      "Requirement already satisfied: certifi in ./venv/lib/python3.10/site-packages (from kaggle) (2022.12.7)\n",
      "Requirement already satisfied: python-dateutil in ./venv/lib/python3.10/site-packages (from kaggle) (2.8.2)\n",
      "Requirement already satisfied: requests in ./venv/lib/python3.10/site-packages (from kaggle) (2.28.1)\n",
      "Requirement already satisfied: tqdm in ./venv/lib/python3.10/site-packages (from kaggle) (4.64.1)\n",
      "Requirement already satisfied: python-slugify in ./venv/lib/python3.10/site-packages (from kaggle) (7.0.0)\n",
      "Requirement already satisfied: urllib3 in ./venv/lib/python3.10/site-packages (from kaggle) (1.26.13)\n",
      "Requirement already satisfied: text-unidecode>=1.3 in ./venv/lib/python3.10/site-packages (from python-slugify->kaggle) (1.3)\n",
      "Requirement already satisfied: idna<4,>=2.5 in ./venv/lib/python3.10/site-packages (from requests->kaggle) (3.4)\n",
      "Requirement already satisfied: charset-normalizer<3,>=2 in ./venv/lib/python3.10/site-packages (from requests->kaggle) (2.1.1)\n"
     ]
    }
   ],
   "source": [
    "! pip install kaggle\n",
    "\n",
    "# ! mkdir ~/.kaggle\n",
    "! cp ~/Dev/kaggle.json ~/.kaggle/\n",
    "! chmod 600 ~/.kaggle/kaggle.json\n",
    "# ! kaggle datasets list"
   ]
  },
  {
   "cell_type": "code",
   "execution_count": 14,
   "id": "dfdbb7c7-afc5-497c-8801-1d2680c16ff2",
   "metadata": {},
   "outputs": [
    {
     "name": "stdout",
     "output_type": "stream",
     "text": [
      "total 8\n",
      "-rw-------@ 1 sreejith  staff  69 Dec 10 13:53 kaggle.json\n"
     ]
    }
   ],
   "source": [
    "! ls -ltr ~/.kaggle/"
   ]
  },
  {
   "cell_type": "code",
   "execution_count": 15,
   "id": "8342eba5-e17a-48cb-af07-b3deafd0b274",
   "metadata": {},
   "outputs": [
    {
     "name": "stdout",
     "output_type": "stream",
     "text": [
      "Downloading state-wise-power-consumption-in-india.zip to /Users/sreejith/Dev/projects/timeseries/aws_forecast\n",
      "  0%|                                                | 0.00/123k [00:00<?, ?B/s]\n",
      "100%|████████████████████████████████████████| 123k/123k [00:00<00:00, 1.91MB/s]\n",
      "Archive:  state-wise-power-consumption-in-india.zip\n",
      "  inflating: dataset_tk.csv          \n",
      "  inflating: long_data_.csv          \n"
     ]
    }
   ],
   "source": [
    "!kaggle datasets download twinkle0705/state-wise-power-consumption-in-india\n",
    "!unzip state-wise-power-consumption-in-india"
   ]
  },
  {
   "cell_type": "code",
   "execution_count": 131,
   "id": "1a04aca1-54d9-4159-a31e-bd22a7ddad34",
   "metadata": {},
   "outputs": [
    {
     "name": "stdout",
     "output_type": "stream",
     "text": [
      "aws_forecast_energy_timeseries.ipynb\n",
      "backup.txt\n",
      "dataset_tk.csv\n",
      "energy_dataset.csv\n",
      "long_data_.csv\n",
      "maharashtra_energy_dataset_filled.csv\n",
      "maharashtra_energy_dataset_target_series.csv\n",
      "state-wise-power-consumption-in-india.zip\n",
      "\u001b[1m\u001b[36mvenv\u001b[m\u001b[m\n"
     ]
    }
   ],
   "source": [
    "! ls"
   ]
  },
  {
   "cell_type": "markdown",
   "id": "9935d1c2-fa74-439c-8712-4a4d5b3c98c6",
   "metadata": {},
   "source": [
    "## Prepare Training Data"
   ]
  },
  {
   "cell_type": "code",
   "execution_count": 67,
   "id": "9a7687c5-88ba-4cea-8d31-1a529740c8c4",
   "metadata": {},
   "outputs": [],
   "source": [
    "data=pd.read_csv('dataset_tk.csv',usecols=['Maharashtra','Unnamed: 0'])"
   ]
  },
  {
   "cell_type": "code",
   "execution_count": 68,
   "id": "a9ed215a-6943-47b6-a872-508b82b73946",
   "metadata": {},
   "outputs": [
    {
     "data": {
      "text/html": [
       "<div>\n",
       "<style scoped>\n",
       "    .dataframe tbody tr th:only-of-type {\n",
       "        vertical-align: middle;\n",
       "    }\n",
       "\n",
       "    .dataframe tbody tr th {\n",
       "        vertical-align: top;\n",
       "    }\n",
       "\n",
       "    .dataframe thead th {\n",
       "        text-align: right;\n",
       "    }\n",
       "</style>\n",
       "<table border=\"1\" class=\"dataframe\">\n",
       "  <thead>\n",
       "    <tr style=\"text-align: right;\">\n",
       "      <th></th>\n",
       "      <th>Unnamed: 0</th>\n",
       "      <th>Maharashtra</th>\n",
       "    </tr>\n",
       "  </thead>\n",
       "  <tbody>\n",
       "    <tr>\n",
       "      <th>0</th>\n",
       "      <td>02/01/2019 00:00:00</td>\n",
       "      <td>428.6</td>\n",
       "    </tr>\n",
       "    <tr>\n",
       "      <th>1</th>\n",
       "      <td>03/01/2019 00:00:00</td>\n",
       "      <td>419.6</td>\n",
       "    </tr>\n",
       "    <tr>\n",
       "      <th>2</th>\n",
       "      <td>04/01/2019 00:00:00</td>\n",
       "      <td>395.8</td>\n",
       "    </tr>\n",
       "    <tr>\n",
       "      <th>3</th>\n",
       "      <td>05/01/2019 00:00:00</td>\n",
       "      <td>411.1</td>\n",
       "    </tr>\n",
       "    <tr>\n",
       "      <th>4</th>\n",
       "      <td>06/01/2019 00:00:00</td>\n",
       "      <td>408.6</td>\n",
       "    </tr>\n",
       "  </tbody>\n",
       "</table>\n",
       "</div>"
      ],
      "text/plain": [
       "            Unnamed: 0  Maharashtra\n",
       "0  02/01/2019 00:00:00        428.6\n",
       "1  03/01/2019 00:00:00        419.6\n",
       "2  04/01/2019 00:00:00        395.8\n",
       "3  05/01/2019 00:00:00        411.1\n",
       "4  06/01/2019 00:00:00        408.6"
      ]
     },
     "execution_count": 68,
     "metadata": {},
     "output_type": "execute_result"
    }
   ],
   "source": [
    "data.head()"
   ]
  },
  {
   "cell_type": "code",
   "execution_count": 69,
   "id": "6086638d-9e06-49d5-9b1a-462721eaf4c3",
   "metadata": {},
   "outputs": [],
   "source": [
    "data['Date']=pd.to_datetime(data['Unnamed: 0'], format='%d/%m/%Y %H:%M:%S').dt.date\n",
    "data.drop(['Unnamed: 0'],inplace=True,axis=1)"
   ]
  },
  {
   "cell_type": "code",
   "execution_count": 70,
   "id": "cb35c240-cb69-4e56-a2e8-b498a3d68b59",
   "metadata": {},
   "outputs": [
    {
     "data": {
      "text/html": [
       "<div>\n",
       "<style scoped>\n",
       "    .dataframe tbody tr th:only-of-type {\n",
       "        vertical-align: middle;\n",
       "    }\n",
       "\n",
       "    .dataframe tbody tr th {\n",
       "        vertical-align: top;\n",
       "    }\n",
       "\n",
       "    .dataframe thead th {\n",
       "        text-align: right;\n",
       "    }\n",
       "</style>\n",
       "<table border=\"1\" class=\"dataframe\">\n",
       "  <thead>\n",
       "    <tr style=\"text-align: right;\">\n",
       "      <th></th>\n",
       "      <th>Maharashtra</th>\n",
       "      <th>Date</th>\n",
       "    </tr>\n",
       "  </thead>\n",
       "  <tbody>\n",
       "    <tr>\n",
       "      <th>0</th>\n",
       "      <td>428.6</td>\n",
       "      <td>2019-01-02</td>\n",
       "    </tr>\n",
       "    <tr>\n",
       "      <th>1</th>\n",
       "      <td>419.6</td>\n",
       "      <td>2019-01-03</td>\n",
       "    </tr>\n",
       "    <tr>\n",
       "      <th>2</th>\n",
       "      <td>395.8</td>\n",
       "      <td>2019-01-04</td>\n",
       "    </tr>\n",
       "    <tr>\n",
       "      <th>3</th>\n",
       "      <td>411.1</td>\n",
       "      <td>2019-01-05</td>\n",
       "    </tr>\n",
       "    <tr>\n",
       "      <th>4</th>\n",
       "      <td>408.6</td>\n",
       "      <td>2019-01-06</td>\n",
       "    </tr>\n",
       "  </tbody>\n",
       "</table>\n",
       "</div>"
      ],
      "text/plain": [
       "   Maharashtra        Date\n",
       "0        428.6  2019-01-02\n",
       "1        419.6  2019-01-03\n",
       "2        395.8  2019-01-04\n",
       "3        411.1  2019-01-05\n",
       "4        408.6  2019-01-06"
      ]
     },
     "execution_count": 70,
     "metadata": {},
     "output_type": "execute_result"
    }
   ],
   "source": [
    "data.head()"
   ]
  },
  {
   "cell_type": "code",
   "execution_count": 71,
   "id": "c1681a36-936c-4f9e-9f0a-1d40c3fe389d",
   "metadata": {},
   "outputs": [
    {
     "name": "stdout",
     "output_type": "stream",
     "text": [
      "<class 'pandas.core.frame.DataFrame'>\n",
      "RangeIndex: 503 entries, 0 to 502\n",
      "Data columns (total 2 columns):\n",
      " #   Column       Non-Null Count  Dtype  \n",
      "---  ------       --------------  -----  \n",
      " 0   Maharashtra  503 non-null    float64\n",
      " 1   Date         503 non-null    object \n",
      "dtypes: float64(1), object(1)\n",
      "memory usage: 8.0+ KB\n"
     ]
    }
   ],
   "source": [
    "data.info()"
   ]
  },
  {
   "cell_type": "code",
   "execution_count": 72,
   "id": "c2f5b7ad-43da-4bbd-9275-7640f6359be5",
   "metadata": {},
   "outputs": [
    {
     "name": "stdout",
     "output_type": "stream",
     "text": [
      "<class 'pandas.core.frame.DataFrame'>\n",
      "Index: 503 entries, 2019-01-02 to 2020-12-05\n",
      "Data columns (total 1 columns):\n",
      " #   Column       Non-Null Count  Dtype  \n",
      "---  ------       --------------  -----  \n",
      " 0   Maharashtra  503 non-null    float64\n",
      "dtypes: float64(1)\n",
      "memory usage: 7.9+ KB\n"
     ]
    }
   ],
   "source": [
    "data.set_index('Date', inplace=True)\n",
    "data.info()"
   ]
  },
  {
   "cell_type": "code",
   "execution_count": 73,
   "id": "b7e150a7-de74-407e-af02-e6bb91b5c7ef",
   "metadata": {},
   "outputs": [
    {
     "data": {
      "text/html": [
       "<div>\n",
       "<style scoped>\n",
       "    .dataframe tbody tr th:only-of-type {\n",
       "        vertical-align: middle;\n",
       "    }\n",
       "\n",
       "    .dataframe tbody tr th {\n",
       "        vertical-align: top;\n",
       "    }\n",
       "\n",
       "    .dataframe thead th {\n",
       "        text-align: right;\n",
       "    }\n",
       "</style>\n",
       "<table border=\"1\" class=\"dataframe\">\n",
       "  <thead>\n",
       "    <tr style=\"text-align: right;\">\n",
       "      <th></th>\n",
       "      <th>Maharashtra</th>\n",
       "    </tr>\n",
       "    <tr>\n",
       "      <th>Date</th>\n",
       "      <th></th>\n",
       "    </tr>\n",
       "  </thead>\n",
       "  <tbody>\n",
       "    <tr>\n",
       "      <th>2019-01-02</th>\n",
       "      <td>428.6</td>\n",
       "    </tr>\n",
       "    <tr>\n",
       "      <th>2019-01-03</th>\n",
       "      <td>419.6</td>\n",
       "    </tr>\n",
       "    <tr>\n",
       "      <th>2019-01-04</th>\n",
       "      <td>395.8</td>\n",
       "    </tr>\n",
       "    <tr>\n",
       "      <th>2019-01-05</th>\n",
       "      <td>411.1</td>\n",
       "    </tr>\n",
       "    <tr>\n",
       "      <th>2019-01-06</th>\n",
       "      <td>408.6</td>\n",
       "    </tr>\n",
       "  </tbody>\n",
       "</table>\n",
       "</div>"
      ],
      "text/plain": [
       "            Maharashtra\n",
       "Date                   \n",
       "2019-01-02        428.6\n",
       "2019-01-03        419.6\n",
       "2019-01-04        395.8\n",
       "2019-01-05        411.1\n",
       "2019-01-06        408.6"
      ]
     },
     "execution_count": 73,
     "metadata": {},
     "output_type": "execute_result"
    }
   ],
   "source": [
    "data.head()"
   ]
  },
  {
   "cell_type": "code",
   "execution_count": 81,
   "id": "44943d5a-5cea-4f97-8092-a360939c34f9",
   "metadata": {},
   "outputs": [
    {
     "data": {
      "text/plain": [
       "Index([2019-01-02, 2019-01-03, 2019-01-04, 2019-01-05, 2019-01-06, 2019-01-07,\n",
       "       2019-01-08, 2019-01-09, 2019-01-10, 2019-01-11,\n",
       "       ...\n",
       "       2020-11-01, 2020-11-02, 2020-11-03, 2020-11-04, 2020-11-05, 2020-12-01,\n",
       "       2020-12-02, 2020-12-03, 2020-12-04, 2020-12-05],\n",
       "      dtype='object', name='Date', length=503)"
      ]
     },
     "execution_count": 81,
     "metadata": {},
     "output_type": "execute_result"
    }
   ],
   "source": [
    "data.index"
   ]
  },
  {
   "cell_type": "code",
   "execution_count": 82,
   "id": "108abc87-0d4b-42fe-9bb6-3b853c75de9d",
   "metadata": {},
   "outputs": [
    {
     "name": "stdout",
     "output_type": "stream",
     "text": [
      "730\n"
     ]
    },
    {
     "data": {
      "text/plain": [
       "DatetimeIndex(['2019-01-02', '2019-01-03', '2019-01-04', '2019-01-05',\n",
       "               '2019-01-06', '2019-01-07', '2019-01-08', '2019-01-09',\n",
       "               '2019-01-10', '2019-01-11',\n",
       "               ...\n",
       "               '2020-12-22', '2020-12-23', '2020-12-24', '2020-12-25',\n",
       "               '2020-12-26', '2020-12-27', '2020-12-28', '2020-12-29',\n",
       "               '2020-12-30', '2020-12-31'],\n",
       "              dtype='datetime64[ns]', length=730, freq='D')"
      ]
     },
     "execution_count": 82,
     "metadata": {},
     "output_type": "execute_result"
    }
   ],
   "source": [
    "# Add missing dates\n",
    "# date_range = pd.date_range(data.index[0], data.index[-1])  # only creates upto 2020-12-05\n",
    "date_range = pd.date_range(data.index[0], dt(2020, 12, 31))\n",
    "print(len(date_range))\n",
    "date_range"
   ]
  },
  {
   "cell_type": "code",
   "execution_count": 83,
   "id": "0b953387-c264-4c88-9d38-2245db2c7c29",
   "metadata": {},
   "outputs": [],
   "source": [
    "# Create a DataFrame containing all dates\n",
    "df = pd.DataFrame(index=date_range)"
   ]
  },
  {
   "cell_type": "code",
   "execution_count": 84,
   "id": "04076ae5-59f6-4869-8481-268a2d6b40af",
   "metadata": {},
   "outputs": [
    {
     "data": {
      "text/html": [
       "<div>\n",
       "<style scoped>\n",
       "    .dataframe tbody tr th:only-of-type {\n",
       "        vertical-align: middle;\n",
       "    }\n",
       "\n",
       "    .dataframe tbody tr th {\n",
       "        vertical-align: top;\n",
       "    }\n",
       "\n",
       "    .dataframe thead th {\n",
       "        text-align: right;\n",
       "    }\n",
       "</style>\n",
       "<table border=\"1\" class=\"dataframe\">\n",
       "  <thead>\n",
       "    <tr style=\"text-align: right;\">\n",
       "      <th></th>\n",
       "    </tr>\n",
       "  </thead>\n",
       "  <tbody>\n",
       "    <tr>\n",
       "      <th>2019-01-02</th>\n",
       "    </tr>\n",
       "    <tr>\n",
       "      <th>2019-01-03</th>\n",
       "    </tr>\n",
       "    <tr>\n",
       "      <th>2019-01-04</th>\n",
       "    </tr>\n",
       "    <tr>\n",
       "      <th>2019-01-05</th>\n",
       "    </tr>\n",
       "    <tr>\n",
       "      <th>2019-01-06</th>\n",
       "    </tr>\n",
       "  </tbody>\n",
       "</table>\n",
       "</div>"
      ],
      "text/plain": [
       "Empty DataFrame\n",
       "Columns: []\n",
       "Index: [2019-01-02 00:00:00, 2019-01-03 00:00:00, 2019-01-04 00:00:00, 2019-01-05 00:00:00, 2019-01-06 00:00:00]"
      ]
     },
     "execution_count": 84,
     "metadata": {},
     "output_type": "execute_result"
    }
   ],
   "source": [
    "df.head()"
   ]
  },
  {
   "cell_type": "code",
   "execution_count": 85,
   "id": "39d098d0-f4aa-4582-9a9e-f926949ba0cb",
   "metadata": {},
   "outputs": [
    {
     "data": {
      "text/html": [
       "<div>\n",
       "<style scoped>\n",
       "    .dataframe tbody tr th:only-of-type {\n",
       "        vertical-align: middle;\n",
       "    }\n",
       "\n",
       "    .dataframe tbody tr th {\n",
       "        vertical-align: top;\n",
       "    }\n",
       "\n",
       "    .dataframe thead th {\n",
       "        text-align: right;\n",
       "    }\n",
       "</style>\n",
       "<table border=\"1\" class=\"dataframe\">\n",
       "  <thead>\n",
       "    <tr style=\"text-align: right;\">\n",
       "      <th></th>\n",
       "      <th>Maharashtra</th>\n",
       "    </tr>\n",
       "  </thead>\n",
       "  <tbody>\n",
       "    <tr>\n",
       "      <th>2020-12-27</th>\n",
       "      <td>NaN</td>\n",
       "    </tr>\n",
       "    <tr>\n",
       "      <th>2020-12-28</th>\n",
       "      <td>NaN</td>\n",
       "    </tr>\n",
       "    <tr>\n",
       "      <th>2020-12-29</th>\n",
       "      <td>NaN</td>\n",
       "    </tr>\n",
       "    <tr>\n",
       "      <th>2020-12-30</th>\n",
       "      <td>NaN</td>\n",
       "    </tr>\n",
       "    <tr>\n",
       "      <th>2020-12-31</th>\n",
       "      <td>NaN</td>\n",
       "    </tr>\n",
       "  </tbody>\n",
       "</table>\n",
       "</div>"
      ],
      "text/plain": [
       "            Maharashtra\n",
       "2020-12-27          NaN\n",
       "2020-12-28          NaN\n",
       "2020-12-29          NaN\n",
       "2020-12-30          NaN\n",
       "2020-12-31          NaN"
      ]
     },
     "execution_count": 85,
     "metadata": {},
     "output_type": "execute_result"
    }
   ],
   "source": [
    "df = df.join(data, how='outer')\n",
    "df.tail()"
   ]
  },
  {
   "cell_type": "code",
   "execution_count": 86,
   "id": "a096e22a-e362-4dbb-9de7-9a394c24edba",
   "metadata": {},
   "outputs": [
    {
     "data": {
      "text/html": [
       "<div>\n",
       "<style scoped>\n",
       "    .dataframe tbody tr th:only-of-type {\n",
       "        vertical-align: middle;\n",
       "    }\n",
       "\n",
       "    .dataframe tbody tr th {\n",
       "        vertical-align: top;\n",
       "    }\n",
       "\n",
       "    .dataframe thead th {\n",
       "        text-align: right;\n",
       "    }\n",
       "</style>\n",
       "<table border=\"1\" class=\"dataframe\">\n",
       "  <thead>\n",
       "    <tr style=\"text-align: right;\">\n",
       "      <th></th>\n",
       "      <th>Maharashtra</th>\n",
       "    </tr>\n",
       "  </thead>\n",
       "  <tbody>\n",
       "    <tr>\n",
       "      <th>2019-01-02</th>\n",
       "      <td>428.6</td>\n",
       "    </tr>\n",
       "    <tr>\n",
       "      <th>2019-01-03</th>\n",
       "      <td>419.6</td>\n",
       "    </tr>\n",
       "    <tr>\n",
       "      <th>2019-01-04</th>\n",
       "      <td>395.8</td>\n",
       "    </tr>\n",
       "    <tr>\n",
       "      <th>2019-01-05</th>\n",
       "      <td>411.1</td>\n",
       "    </tr>\n",
       "    <tr>\n",
       "      <th>2019-01-06</th>\n",
       "      <td>408.6</td>\n",
       "    </tr>\n",
       "    <tr>\n",
       "      <th>...</th>\n",
       "      <td>...</td>\n",
       "    </tr>\n",
       "    <tr>\n",
       "      <th>2020-12-27</th>\n",
       "      <td>NaN</td>\n",
       "    </tr>\n",
       "    <tr>\n",
       "      <th>2020-12-28</th>\n",
       "      <td>NaN</td>\n",
       "    </tr>\n",
       "    <tr>\n",
       "      <th>2020-12-29</th>\n",
       "      <td>NaN</td>\n",
       "    </tr>\n",
       "    <tr>\n",
       "      <th>2020-12-30</th>\n",
       "      <td>NaN</td>\n",
       "    </tr>\n",
       "    <tr>\n",
       "      <th>2020-12-31</th>\n",
       "      <td>NaN</td>\n",
       "    </tr>\n",
       "  </tbody>\n",
       "</table>\n",
       "<p>735 rows × 1 columns</p>\n",
       "</div>"
      ],
      "text/plain": [
       "            Maharashtra\n",
       "2019-01-02        428.6\n",
       "2019-01-03        419.6\n",
       "2019-01-04        395.8\n",
       "2019-01-05        411.1\n",
       "2019-01-06        408.6\n",
       "...                 ...\n",
       "2020-12-27          NaN\n",
       "2020-12-28          NaN\n",
       "2020-12-29          NaN\n",
       "2020-12-30          NaN\n",
       "2020-12-31          NaN\n",
       "\n",
       "[735 rows x 1 columns]"
      ]
     },
     "execution_count": 86,
     "metadata": {},
     "output_type": "execute_result"
    }
   ],
   "source": [
    "df"
   ]
  },
  {
   "cell_type": "code",
   "execution_count": 88,
   "id": "2c78b097-246c-4e5f-8a16-874c075041e3",
   "metadata": {},
   "outputs": [
    {
     "data": {
      "text/html": [
       "<div>\n",
       "<style scoped>\n",
       "    .dataframe tbody tr th:only-of-type {\n",
       "        vertical-align: middle;\n",
       "    }\n",
       "\n",
       "    .dataframe tbody tr th {\n",
       "        vertical-align: top;\n",
       "    }\n",
       "\n",
       "    .dataframe thead th {\n",
       "        text-align: right;\n",
       "    }\n",
       "</style>\n",
       "<table border=\"1\" class=\"dataframe\">\n",
       "  <thead>\n",
       "    <tr style=\"text-align: right;\">\n",
       "      <th></th>\n",
       "      <th>Maharashtra</th>\n",
       "    </tr>\n",
       "  </thead>\n",
       "  <tbody>\n",
       "    <tr>\n",
       "      <th>2019-01-02</th>\n",
       "      <td>428.6</td>\n",
       "    </tr>\n",
       "    <tr>\n",
       "      <th>2019-01-03</th>\n",
       "      <td>419.6</td>\n",
       "    </tr>\n",
       "    <tr>\n",
       "      <th>2019-01-04</th>\n",
       "      <td>395.8</td>\n",
       "    </tr>\n",
       "    <tr>\n",
       "      <th>2019-01-05</th>\n",
       "      <td>411.1</td>\n",
       "    </tr>\n",
       "    <tr>\n",
       "      <th>2019-01-06</th>\n",
       "      <td>408.6</td>\n",
       "    </tr>\n",
       "    <tr>\n",
       "      <th>...</th>\n",
       "      <td>...</td>\n",
       "    </tr>\n",
       "    <tr>\n",
       "      <th>2020-12-27</th>\n",
       "      <td>470.5</td>\n",
       "    </tr>\n",
       "    <tr>\n",
       "      <th>2020-12-28</th>\n",
       "      <td>470.5</td>\n",
       "    </tr>\n",
       "    <tr>\n",
       "      <th>2020-12-29</th>\n",
       "      <td>470.5</td>\n",
       "    </tr>\n",
       "    <tr>\n",
       "      <th>2020-12-30</th>\n",
       "      <td>470.5</td>\n",
       "    </tr>\n",
       "    <tr>\n",
       "      <th>2020-12-31</th>\n",
       "      <td>470.5</td>\n",
       "    </tr>\n",
       "  </tbody>\n",
       "</table>\n",
       "<p>735 rows × 1 columns</p>\n",
       "</div>"
      ],
      "text/plain": [
       "            Maharashtra\n",
       "2019-01-02        428.6\n",
       "2019-01-03        419.6\n",
       "2019-01-04        395.8\n",
       "2019-01-05        411.1\n",
       "2019-01-06        408.6\n",
       "...                 ...\n",
       "2020-12-27        470.5\n",
       "2020-12-28        470.5\n",
       "2020-12-29        470.5\n",
       "2020-12-30        470.5\n",
       "2020-12-31        470.5\n",
       "\n",
       "[735 rows x 1 columns]"
      ]
     },
     "execution_count": 88,
     "metadata": {},
     "output_type": "execute_result"
    }
   ],
   "source": [
    "# Fill missing values\n",
    "\n",
    "df['Maharashtra'] = df['Maharashtra'].fillna(method='ffill')\n",
    "df"
   ]
  },
  {
   "cell_type": "code",
   "execution_count": 89,
   "id": "0a3c5dd7-76c0-4991-9887-5a75349a93db",
   "metadata": {},
   "outputs": [],
   "source": [
    "df.to_csv('maharashtra_energy_dataset_filled.csv')"
   ]
  },
  {
   "cell_type": "code",
   "execution_count": 90,
   "id": "11584cef-57c4-40ff-9093-8cc98cbd3c38",
   "metadata": {},
   "outputs": [
    {
     "name": "stdout",
     "output_type": "stream",
     "text": [
      "aws_forecast_energy_timeseries.ipynb\n",
      "backup.txt\n",
      "dataset_tk.csv\n",
      "long_data_.csv\n",
      "maharashtra_energy_dataset_filled.csv\n",
      "state-wise-power-consumption-in-india.zip\n",
      "\u001b[1m\u001b[36mvenv\u001b[m\u001b[m\n"
     ]
    }
   ],
   "source": [
    "!ls"
   ]
  },
  {
   "cell_type": "code",
   "execution_count": 93,
   "id": "2b4c90ec-e012-4e21-9ad1-035e0520e938",
   "metadata": {},
   "outputs": [
    {
     "name": "stdout",
     "output_type": "stream",
     "text": [
      ",Maharashtra\n",
      "2019-01-02,428.6\n",
      "2019-01-03,419.6\n",
      "2019-01-04,395.8\n",
      "2019-01-05,411.1\n"
     ]
    }
   ],
   "source": [
    "!head -n 5 maharashtra_energy_dataset_filled.csv"
   ]
  },
  {
   "cell_type": "code",
   "execution_count": 94,
   "id": "9c4ad371-b630-4a28-b6df-cef08e295376",
   "metadata": {},
   "outputs": [],
   "source": [
    "# AWS Forecast requires an column 'item_id'\n",
    "df['item_id'] = 'maharashtra'"
   ]
  },
  {
   "cell_type": "code",
   "execution_count": 95,
   "id": "369c3c85-33e5-4b1a-ae3f-41e4664726c2",
   "metadata": {},
   "outputs": [
    {
     "data": {
      "text/html": [
       "<div>\n",
       "<style scoped>\n",
       "    .dataframe tbody tr th:only-of-type {\n",
       "        vertical-align: middle;\n",
       "    }\n",
       "\n",
       "    .dataframe tbody tr th {\n",
       "        vertical-align: top;\n",
       "    }\n",
       "\n",
       "    .dataframe thead th {\n",
       "        text-align: right;\n",
       "    }\n",
       "</style>\n",
       "<table border=\"1\" class=\"dataframe\">\n",
       "  <thead>\n",
       "    <tr style=\"text-align: right;\">\n",
       "      <th></th>\n",
       "      <th>Maharashtra</th>\n",
       "      <th>item_id</th>\n",
       "    </tr>\n",
       "  </thead>\n",
       "  <tbody>\n",
       "    <tr>\n",
       "      <th>2019-01-02</th>\n",
       "      <td>428.6</td>\n",
       "      <td>maharashtra</td>\n",
       "    </tr>\n",
       "    <tr>\n",
       "      <th>2019-01-03</th>\n",
       "      <td>419.6</td>\n",
       "      <td>maharashtra</td>\n",
       "    </tr>\n",
       "    <tr>\n",
       "      <th>2019-01-04</th>\n",
       "      <td>395.8</td>\n",
       "      <td>maharashtra</td>\n",
       "    </tr>\n",
       "    <tr>\n",
       "      <th>2019-01-05</th>\n",
       "      <td>411.1</td>\n",
       "      <td>maharashtra</td>\n",
       "    </tr>\n",
       "    <tr>\n",
       "      <th>2019-01-06</th>\n",
       "      <td>408.6</td>\n",
       "      <td>maharashtra</td>\n",
       "    </tr>\n",
       "  </tbody>\n",
       "</table>\n",
       "</div>"
      ],
      "text/plain": [
       "            Maharashtra      item_id\n",
       "2019-01-02        428.6  maharashtra\n",
       "2019-01-03        419.6  maharashtra\n",
       "2019-01-04        395.8  maharashtra\n",
       "2019-01-05        411.1  maharashtra\n",
       "2019-01-06        408.6  maharashtra"
      ]
     },
     "execution_count": 95,
     "metadata": {},
     "output_type": "execute_result"
    }
   ],
   "source": [
    "df.head()"
   ]
  },
  {
   "cell_type": "code",
   "execution_count": 99,
   "id": "c09af7e3-ce0c-41fe-817f-b11482863070",
   "metadata": {},
   "outputs": [],
   "source": [
    "# Leave last 30 points for evaluating Forecast predictions\n",
    "FORECAST_LENGTH = 30\n",
    "train = df.iloc[:-FORECAST_LENGTH]"
   ]
  },
  {
   "cell_type": "code",
   "execution_count": 100,
   "id": "c7fdb316-25e4-4018-8f4d-9e6c6da27230",
   "metadata": {},
   "outputs": [
    {
     "name": "stdout",
     "output_type": "stream",
     "text": [
      "735 705\n"
     ]
    }
   ],
   "source": [
    "print(len(df), len(train))"
   ]
  },
  {
   "cell_type": "code",
   "execution_count": 103,
   "id": "7aac4805-e4dd-4f9a-b7e6-15b3018099db",
   "metadata": {},
   "outputs": [],
   "source": [
    "# AWS can have a \"target time series\" and a \"related time series\"\n",
    "train_target_series = train  # Here we doesn't have any additional data columns for related series"
   ]
  },
  {
   "cell_type": "code",
   "execution_count": 108,
   "id": "d0a16f42-b337-4fe1-8b1a-db19140e6fd4",
   "metadata": {},
   "outputs": [],
   "source": [
    "# Save data to be uploaded to S3\n",
    "train_target_series.to_csv(\"maharashtra_energy_dataset_target_series.csv\", header=None)"
   ]
  },
  {
   "cell_type": "code",
   "execution_count": 106,
   "id": "5c0a11b2-9d18-432e-93b5-6ee6456db1d6",
   "metadata": {},
   "outputs": [
    {
     "name": "stdout",
     "output_type": "stream",
     "text": [
      "2019-01-02,428.6,maharashtra\n",
      "2019-01-03,419.6,maharashtra\n",
      "2019-01-04,395.8,maharashtra\n",
      "2019-01-05,411.1,maharashtra\n",
      "2019-01-06,408.6,maharashtra\n"
     ]
    }
   ],
   "source": [
    "!head -n 5 maharashtra_energy_dataset_target_series.csv"
   ]
  },
  {
   "cell_type": "markdown",
   "id": "3681637f-b01b-4e59-b655-3afb37bf490d",
   "metadata": {},
   "source": [
    "## Create Dataset Group and upload data to S3"
   ]
  },
  {
   "cell_type": "code",
   "execution_count": 110,
   "id": "8268a1da-f1d8-4467-8a7b-a8438d08e449",
   "metadata": {},
   "outputs": [],
   "source": [
    "bucket_name = 'energy-prediction-aws-forecast'"
   ]
  },
  {
   "cell_type": "code",
   "execution_count": 111,
   "id": "9674e851-9c84-4853-89ec-efb31f42b84d",
   "metadata": {},
   "outputs": [],
   "source": [
    "role_arn = 'arn:aws:iam::312202024311:role/ForecastRoleS3Access'"
   ]
  },
  {
   "cell_type": "code",
   "execution_count": 112,
   "id": "83fc8d91-b4a5-4f26-a3a9-2e85e20d5aa8",
   "metadata": {},
   "outputs": [],
   "source": [
    "s3 = boto3.client('s3')"
   ]
  },
  {
   "cell_type": "code",
   "execution_count": 117,
   "id": "a65cd45a-421e-432d-8dcf-8ef348c52cc6",
   "metadata": {},
   "outputs": [],
   "source": [
    "# s3.list_buckets()['Buckets']"
   ]
  },
  {
   "cell_type": "code",
   "execution_count": 123,
   "id": "a9236a65-c520-40cc-aeb5-c25a91693269",
   "metadata": {},
   "outputs": [
    {
     "name": "stdout",
     "output_type": "stream",
     "text": [
      "Dataset Group Name = daily_energy_forecast_dataset_group_1\n"
     ]
    }
   ],
   "source": [
    "DATASET_FREQUENCY = 'D'\n",
    "TIMESTAMP_FORMAT = 'yyyy-MM-dd'\n",
    "\n",
    "PROJECT = 'daily_energy_forecast'\n",
    "DATA_VERSION = 1\n",
    "\n",
    "dataset_group = f'{PROJECT}_dataset_group_{DATA_VERSION}'\n",
    "print(f\"Dataset Group Name = {dataset_group}\")"
   ]
  },
  {
   "cell_type": "code",
   "execution_count": 119,
   "id": "6463ad87-07e5-4f29-9dcc-abb82bd17ac0",
   "metadata": {},
   "outputs": [],
   "source": [
    "forecast_client = boto3.client('forecast')\n",
    "forecastquery_client = boto3.client('forecastquery')"
   ]
  },
  {
   "cell_type": "code",
   "execution_count": 121,
   "id": "74b848a1-92f4-4c7c-9e58-74874a553504",
   "metadata": {},
   "outputs": [
    {
     "data": {
      "text/plain": [
       "<botocore.client.ForecastQueryService at 0x11f7627d0>"
      ]
     },
     "execution_count": 121,
     "metadata": {},
     "output_type": "execute_result"
    }
   ],
   "source": [
    "forecastquery_client"
   ]
  },
  {
   "cell_type": "code",
   "execution_count": null,
   "id": "7bc64bb6-2992-4ac1-a8cf-d2ca3afab092",
   "metadata": {},
   "outputs": [],
   "source": [
    "# create a dataset group\n",
    "dataset_arns = []\n",
    "create_dataset_group_response = forecast_client.create_dataset_group(Domain='CUSTOM',\n",
    "                                                                     DatasetGroupName=dataset_group,\n",
    "                                                                     DatasetArns=dataset_arns)"
   ]
  },
  {
   "cell_type": "code",
   "execution_count": null,
   "id": "d0e303e6-9406-48a4-89bb-6cf32c875ccd",
   "metadata": {},
   "outputs": [],
   "source": [
    "# wait until its complete!\n",
    "dataset_group_arn = create_dataset_group_response['DatasetGroupArn']\n",
    "describe = forecast_client.describe_dataset_group(DatasetGroupArn=dataset_group_arn)\n",
    "\n",
    "print(describe['Status'])\n",
    "print(describe['CreationTime'])\n",
    "print(describe['LastModificationTime'])"
   ]
  },
  {
   "cell_type": "markdown",
   "id": "deae5073-eeba-428b-866d-9477a9b90f24",
   "metadata": {},
   "source": [
    "## Create Schema"
   ]
  },
  {
   "cell_type": "code",
   "execution_count": null,
   "id": "7db4c4d1-3c2f-4b4c-9eea-38aa7bba2832",
   "metadata": {},
   "outputs": [],
   "source": [
    "# Specify the schema of your dataset here. Make sure the order of columns matches the raw data files.\n",
    "target_schema ={\n",
    "   \"Attributes\":[\n",
    "      {\n",
    "         \"AttributeName\":\"timestamp\",\n",
    "         \"AttributeType\":\"timestamp\"\n",
    "      },\n",
    "      {\n",
    "         \"AttributeName\":\"target_value\",\n",
    "         \"AttributeType\":\"float\"\n",
    "      },\n",
    "      {\n",
    "         \"AttributeName\":\"item_id\",\n",
    "         \"AttributeType\":\"string\"\n",
    "      }\n",
    "   ]\n",
    "}"
   ]
  },
  {
   "cell_type": "code",
   "execution_count": 124,
   "id": "d93625f8-bc78-4e20-ba58-f05bde51cf58",
   "metadata": {},
   "outputs": [
    {
     "name": "stdout",
     "output_type": "stream",
     "text": [
      "Dataset name = daily_energy_forecast_1\n"
     ]
    }
   ],
   "source": [
    "target_dataset_name = f'{PROJECT}_{DATA_VERSION}'\n",
    "print(f'Dataset name = {target_dataset_name}' )"
   ]
  },
  {
   "cell_type": "markdown",
   "id": "2a3c3069-1649-4bd5-b5ea-516e5ae4f193",
   "metadata": {},
   "source": [
    "## Create a Dataset"
   ]
  },
  {
   "cell_type": "code",
   "execution_count": null,
   "id": "2718a36a-8d0f-49c3-a8e8-7cb4cb60778d",
   "metadata": {},
   "outputs": [],
   "source": [
    "response = forecast_client.create_dataset(Domain=\"CUSTOM\",\n",
    "                                          DatasetType='TARGET_TIME_SERIES',\n",
    "                                          DatasetName=target_dataset_name,\n",
    "                                          DataFrequency=DATASET_FREQUENCY,\n",
    "                                          Schema=target_schema)"
   ]
  },
  {
   "cell_type": "code",
   "execution_count": null,
   "id": "48ddf765-9f62-43b6-9d31-bda756159421",
   "metadata": {},
   "outputs": [],
   "source": [
    "# Check the response\n",
    "target_dataset_arn = response['DatasetArn']\n",
    "describe = forecast_client.describe_dataset(DatasetArn=target_dataset_arn)\n",
    "\n",
    "print(describe['Status'])\n",
    "print(describe['CreationTime'])\n",
    "print(describe['LastModificationTime'])"
   ]
  },
  {
   "cell_type": "markdown",
   "id": "146c2d32-a0e7-46b6-89de-a56c0946f0c7",
   "metadata": {},
   "source": [
    "## Update the dataset group with the datasets we created"
   ]
  },
  {
   "cell_type": "code",
   "execution_count": null,
   "id": "630bd1a2-9b87-4380-9696-e9dd388b1398",
   "metadata": {},
   "outputs": [],
   "source": [
    "dataset_arns = []\n",
    "dataset_arns.append(target_dataset_arn)\n",
    "forecast_client.update_dataset_group(DatasetGroupArn=dataset_group_arn, DatasetArns=dataset_arns)"
   ]
  },
  {
   "cell_type": "markdown",
   "id": "806964d5-e883-4c2f-8edb-d84754d7bac5",
   "metadata": {},
   "source": [
    "## Upload Data to S3"
   ]
  },
  {
   "cell_type": "code",
   "execution_count": 125,
   "id": "4ebbbe7b-e786-4376-8b3d-5ff10993e31b",
   "metadata": {},
   "outputs": [],
   "source": [
    "s3r = boto3.resource('s3')"
   ]
  },
  {
   "cell_type": "code",
   "execution_count": 133,
   "id": "ee1235e7-bd37-4c4c-8b96-1a2509b958e0",
   "metadata": {},
   "outputs": [],
   "source": [
    "# s3r.Bucket(bucket_name).Object(\"maharashtra_energy_dataset_target_series.csv\").upload_file(\"maharashtra_energy_dataset_target_series.csv\")"
   ]
  },
  {
   "cell_type": "code",
   "execution_count": null,
   "id": "53ad268f-8066-4543-a5a1-694a8b1ad17a",
   "metadata": {},
   "outputs": [],
   "source": []
  },
  {
   "cell_type": "code",
   "execution_count": null,
   "id": "ff4219fc-346d-4d27-b9dd-6f5dfdd05dcd",
   "metadata": {},
   "outputs": [],
   "source": []
  },
  {
   "cell_type": "code",
   "execution_count": null,
   "id": "ad4c4cee-1c2d-4f52-ade4-941b83d4f443",
   "metadata": {},
   "outputs": [],
   "source": []
  },
  {
   "cell_type": "code",
   "execution_count": null,
   "id": "c594286a-9049-4d0a-9c76-6b67d54ddd4c",
   "metadata": {},
   "outputs": [],
   "source": []
  },
  {
   "cell_type": "code",
   "execution_count": null,
   "id": "9aa5611c-1bd6-452c-88e8-b410e1c6ca97",
   "metadata": {},
   "outputs": [],
   "source": []
  },
  {
   "cell_type": "code",
   "execution_count": null,
   "id": "8f624aac-1267-42f9-885c-66716ebdde68",
   "metadata": {},
   "outputs": [],
   "source": []
  },
  {
   "cell_type": "code",
   "execution_count": null,
   "id": "1a90b4e5-0b6b-48dd-b11d-6e587707e074",
   "metadata": {},
   "outputs": [],
   "source": []
  },
  {
   "cell_type": "code",
   "execution_count": null,
   "id": "70704b10-cf19-4fa4-9b12-1bd537f6588d",
   "metadata": {},
   "outputs": [],
   "source": []
  },
  {
   "cell_type": "code",
   "execution_count": null,
   "id": "6bee9cf0-49a0-48f9-8d5c-cb7a3297fd6d",
   "metadata": {},
   "outputs": [],
   "source": []
  }
 ],
 "metadata": {
  "kernelspec": {
   "display_name": "Python 3 (ipykernel)",
   "language": "python",
   "name": "python3"
  },
  "language_info": {
   "codemirror_mode": {
    "name": "ipython",
    "version": 3
   },
   "file_extension": ".py",
   "mimetype": "text/x-python",
   "name": "python",
   "nbconvert_exporter": "python",
   "pygments_lexer": "ipython3",
   "version": "3.10.8"
  }
 },
 "nbformat": 4,
 "nbformat_minor": 5
}
